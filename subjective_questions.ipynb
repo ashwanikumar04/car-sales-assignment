{
 "cells": [
  {
   "cell_type": "markdown",
   "metadata": {},
   "source": [
    "1.\tExplain the linear regression algorithm in detail.\n",
    "2.\tWhat are the assumptions of linear regression regarding residuals?\n",
    "3.\tWhat is the coefficient of correlation and the coefficient of determination?\n",
    "4.\tExplain the Anscombe’s quartet in detail.\n",
    "5.\tWhat is Pearson’s R?\n",
    "6.\tWhat is scaling? Why is scaling performed? What is the difference between normalized scaling and standardized scaling?\n",
    "7.\tYou might have observed that sometimes the value of VIF is infinite. Why does this happen?\n",
    "8.\tWhat is the Gauss-Markov theorem?\n",
    "9.\tExplain the gradient descent algorithm in detail.\n",
    "10.\tWhat is a Q-Q plot? Explain the use and importance of a Q-Q plot in linear regression.\n"
   ]
  },
  {
   "cell_type": "code",
   "execution_count": null,
   "metadata": {},
   "outputs": [],
   "source": []
  }
 ],
 "metadata": {
  "kernelspec": {
   "display_name": "Python 3",
   "language": "python",
   "name": "python3"
  },
  "language_info": {
   "codemirror_mode": {
    "name": "ipython",
    "version": 3
   },
   "file_extension": ".py",
   "mimetype": "text/x-python",
   "name": "python",
   "nbconvert_exporter": "python",
   "pygments_lexer": "ipython3",
   "version": "3.7.4"
  }
 },
 "nbformat": 4,
 "nbformat_minor": 2
}
